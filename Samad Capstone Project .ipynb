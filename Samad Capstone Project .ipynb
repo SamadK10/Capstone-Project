{
 "cells": [
  {
   "cell_type": "markdown",
   "id": "c82f6448-efe1-463c-a300-462679704fee",
   "metadata": {},
   "source": [
    "# Credit Card Fraud Detection Capstone Project"
   ]
  },
  {
   "cell_type": "markdown",
   "id": "2f6f4516-520d-46d6-8bdd-4137bcd9987b",
   "metadata": {},
   "source": [
    "# Made by Samad Khan "
   ]
  },
  {
   "cell_type": "markdown",
   "id": "250e9004-a667-465d-b30b-64fca937b1da",
   "metadata": {},
   "source": [
    "## Problem Statement "
   ]
  },
  {
   "cell_type": "markdown",
   "id": "54814cc3-5914-46fa-90af-d07c046e12bf",
   "metadata": {},
   "source": [
    "#### The rise of online transactions has led to an increase in fraudulent credit card activities. Unauthorized transactions not only result in financial losses for banks but also diminish customer trust and satisfaction. As fraudsters become more sophisticated, it is crucial to develop an effective fraud detection system to mitigate these risks.The aim of this project is to identify and predict fraudulent credit card transactions using machine learning models. By leveraging advanced algorithms and handling imbalanced data efficiently, we strive to create a model that can accurately differentiate between legitimate and fraudulent transactions in real time."
   ]
  },
  {
   "cell_type": "markdown",
   "id": "df41f15d-a15f-4f1c-a24c-7176ad3faa00",
   "metadata": {},
   "source": [
    "## Data Understanding: "
   ]
  },
  {
   "cell_type": "markdown",
   "id": "30cf7d85-a197-43e8-92de-b0eeae7e078a",
   "metadata": {},
   "source": [
    "# Data Source : https://kh3-ls-storage.s3.us-east-1.amazonaws.com/DS Project Guide Data Set/creditcard.csv"
   ]
  },
  {
   "cell_type": "markdown",
   "id": "fb24c2c0-ee71-4051-b83c-342da6783298",
   "metadata": {},
   "source": [
    "### The dataset used in this project consists of credit card transactions made by European cardholders over two days in September 2013. It contains 284,807 transactions, out of which only 492 are fraudulent, making up just 0.172% of the dataset. This extreme class imbalance presents a challenge in building an effective fraud detection model.\n",
    "### To maintain confidentiality, most of the features in the dataset have been transformed using Principal Component Analysis (PCA). The dataset includes:\n",
    "\n",
    "### Time: The number of seconds elapsed between the first transaction and the subsequent transactions.\n",
    "### Amount: The transaction amount, which can be used for fraud pattern analysis.\n",
    "### V1 to V28: Anonymized numerical features obtained through PCA.\n",
    "### Class: The target variable, where 0 represents a legitimate transaction and 1 indicates fraud.\n",
    "### The distribution plots of these features suggest that transformations have already been applied, and the dataset is ready for further processing and modeling. The primary objective is to build a classification model capable of accurately detecting fraudulent transactions while minimizing false positives to avoid unnecessary disruptions for legitimate users."
   ]
  },
  {
   "cell_type": "markdown",
   "id": "333574b6-32f6-441e-a236-c916e3ddad8a",
   "metadata": {},
   "source": [
    "## Importing Python Libraries "
   ]
  },
  {
   "cell_type": "code",
   "execution_count": 15,
   "id": "d7f762e0-255e-40cc-9c66-719fb0af0cba",
   "metadata": {},
   "outputs": [],
   "source": [
    "import numpy as np\n",
    "import pandas as pd\n",
    "import matplotlib.pyplot as plt\n",
    "import seaborn as sns\n",
    "from sklearn.model_selection import train_test_split, GridSearchCV\n",
    "from sklearn.preprocessing import StandardScaler\n",
    "from sklearn.ensemble import RandomForestClassifier\n",
    "from sklearn.linear_model import LogisticRegression\n",
    "from sklearn.svm import SVC\n",
    "from sklearn.metrics import classification_report, confusion_matrix, roc_auc_score, precision_recall_curve, auc\n",
    "from imblearn.over_sampling import SMOTE"
   ]
  },
  {
   "cell_type": "markdown",
   "id": "1ef1b786-c9c0-42f4-90e8-1bfe85fb092e",
   "metadata": {},
   "source": [
    "## Load dataset"
   ]
  },
  {
   "cell_type": "code",
   "execution_count": 17,
   "id": "c9536471-bc7f-4424-a4f6-36a1b52dcace",
   "metadata": {},
   "outputs": [],
   "source": [
    "data = pd.read_csv(r\"C:\\Users\\samad\\Downloads\\creditcard.csv\")"
   ]
  },
  {
   "cell_type": "markdown",
   "id": "664dbab4-385d-494b-baec-c193a910e68e",
   "metadata": {},
   "source": [
    "## Exploratory Data Analysis"
   ]
  },
  {
   "cell_type": "code",
   "execution_count": 18,
   "id": "56ce1fa0-84a2-4af9-a449-d1ea4d98de58",
   "metadata": {},
   "outputs": [
    {
     "name": "stdout",
     "output_type": "stream",
     "text": [
      "Dataset Overview:\n",
      "   Time        V1        V2        V3        V4        V5        V6        V7  \\\n",
      "0   0.0 -1.359807 -0.072781  2.536347  1.378155 -0.338321  0.462388  0.239599   \n",
      "1   0.0  1.191857  0.266151  0.166480  0.448154  0.060018 -0.082361 -0.078803   \n",
      "2   1.0 -1.358354 -1.340163  1.773209  0.379780 -0.503198  1.800499  0.791461   \n",
      "3   1.0 -0.966272 -0.185226  1.792993 -0.863291 -0.010309  1.247203  0.237609   \n",
      "4   2.0 -1.158233  0.877737  1.548718  0.403034 -0.407193  0.095921  0.592941   \n",
      "\n",
      "         V8        V9  ...       V21       V22       V23       V24       V25  \\\n",
      "0  0.098698  0.363787  ... -0.018307  0.277838 -0.110474  0.066928  0.128539   \n",
      "1  0.085102 -0.255425  ... -0.225775 -0.638672  0.101288 -0.339846  0.167170   \n",
      "2  0.247676 -1.514654  ...  0.247998  0.771679  0.909412 -0.689281 -0.327642   \n",
      "3  0.377436 -1.387024  ... -0.108300  0.005274 -0.190321 -1.175575  0.647376   \n",
      "4 -0.270533  0.817739  ... -0.009431  0.798278 -0.137458  0.141267 -0.206010   \n",
      "\n",
      "        V26       V27       V28  Amount  Class  \n",
      "0 -0.189115  0.133558 -0.021053  149.62      0  \n",
      "1  0.125895 -0.008983  0.014724    2.69      0  \n",
      "2 -0.139097 -0.055353 -0.059752  378.66      0  \n",
      "3 -0.221929  0.062723  0.061458  123.50      0  \n",
      "4  0.502292  0.219422  0.215153   69.99      0  \n",
      "\n",
      "[5 rows x 31 columns]\n",
      "\n",
      "Missing Values:\n",
      "Time      0\n",
      "V1        0\n",
      "V2        0\n",
      "V3        0\n",
      "V4        0\n",
      "V5        0\n",
      "V6        0\n",
      "V7        0\n",
      "V8        0\n",
      "V9        0\n",
      "V10       0\n",
      "V11       0\n",
      "V12       0\n",
      "V13       0\n",
      "V14       0\n",
      "V15       0\n",
      "V16       0\n",
      "V17       0\n",
      "V18       0\n",
      "V19       0\n",
      "V20       0\n",
      "V21       0\n",
      "V22       0\n",
      "V23       0\n",
      "V24       0\n",
      "V25       0\n",
      "V26       0\n",
      "V27       0\n",
      "V28       0\n",
      "Amount    0\n",
      "Class     0\n",
      "dtype: int64\n"
     ]
    }
   ],
   "source": [
    "print(\"Dataset Overview:\")\n",
    "print(data.head())\n",
    "print(\"\\nMissing Values:\")\n",
    "print(data.isnull().sum())"
   ]
  },
  {
   "cell_type": "markdown",
   "id": "39725b6b-e736-4da7-8784-911fb06b5c60",
   "metadata": {},
   "source": [
    "# Data Cleaning: Handling missing values (if any)"
   ]
  },
  {
   "cell_type": "code",
   "execution_count": 21,
   "id": "9ce97065-351d-496d-b371-5411e4e451cd",
   "metadata": {},
   "outputs": [],
   "source": [
    "data = data.dropna()"
   ]
  },
  {
   "cell_type": "markdown",
   "id": "9d80da64-8946-4fe4-81b9-cdb3285a68a2",
   "metadata": {},
   "source": [
    "# Feature Selection & Scaling"
   ]
  },
  {
   "cell_type": "code",
   "execution_count": 23,
   "id": "a039b395-0122-4e4d-890c-81eac9a83087",
   "metadata": {},
   "outputs": [],
   "source": [
    "X = data.drop(columns=[\"Class\"])\n",
    "y = data[\"Class\"]\n",
    "scaler = StandardScaler()\n",
    "X_scaled = scaler.fit_transform(X)"
   ]
  },
  {
   "cell_type": "markdown",
   "id": "8700ae54-2926-4e88-a126-69964f6e391e",
   "metadata": {},
   "source": [
    "# Handling Imbalanced Data using SMOTE"
   ]
  },
  {
   "cell_type": "code",
   "execution_count": 25,
   "id": "d4bb9b45-e4f9-4853-9f36-0764fe5735a2",
   "metadata": {},
   "outputs": [],
   "source": [
    "smote = SMOTE(random_state=42)\n",
    "X_resampled, y_resampled = smote.fit_resample(X_scaled, y)"
   ]
  },
  {
   "cell_type": "markdown",
   "id": "bc383cf1-61d9-4ce9-a40a-d4369c7db1b7",
   "metadata": {},
   "source": [
    "# Splitting the data"
   ]
  },
  {
   "cell_type": "code",
   "execution_count": 27,
   "id": "2a9e8b6e-3693-4ea2-9be1-379658b27ab6",
   "metadata": {},
   "outputs": [],
   "source": [
    "X_train, X_test, y_train, y_test = train_test_split(X_resampled, y_resampled, test_size=0.2, random_state=42)"
   ]
  },
  {
   "cell_type": "markdown",
   "id": "8c26a6b5-5ae8-4cc5-8851-afbdf52af800",
   "metadata": {},
   "source": [
    "# Model Selection and Hyperparameter Tuning"
   ]
  },
  {
   "cell_type": "code",
   "execution_count": 29,
   "id": "8081a1d2-7ece-4f58-aa62-68e0b5eded4d",
   "metadata": {},
   "outputs": [
    {
     "name": "stdout",
     "output_type": "stream",
     "text": [
      "Fitting 3 folds for each of 8 candidates, totalling 24 fits\n"
     ]
    }
   ],
   "source": [
    "param_grid = {\n",
    "    'n_estimators': [50, 100],  # Reduce options\n",
    "    'max_depth': [None, 10],  # Reduce options\n",
    "    'min_samples_split': [5, 10]  # Reduce options\n",
    "}\n",
    "\n",
    "rf_model = RandomForestClassifier(random_state=42, n_jobs=-1)  # Use all CPU cores\n",
    "grid_search = GridSearchCV(rf_model, param_grid, cv=3, scoring='roc_auc', n_jobs=-1, verbose=2)  # Reduce cv and enable parallelism\n",
    "\n",
    "grid_search.fit(X_train, y_train)\n",
    "best_model = grid_search.best_estimator_"
   ]
  },
  {
   "cell_type": "markdown",
   "id": "3ac4b586-354e-4966-a0df-345d5e6bc6ea",
   "metadata": {},
   "source": [
    "# Model Training"
   ]
  },
  {
   "cell_type": "code",
   "execution_count": 30,
   "id": "b74aa750-02de-4c11-95fd-3f1ec2512afe",
   "metadata": {},
   "outputs": [],
   "source": [
    "best_model.fit(X_train, y_train)\n",
    "\n",
    "# Predictions\n",
    "y_pred = best_model.predict(X_test)\n",
    "y_prob = best_model.predict_proba(X_test)[:, 1]"
   ]
  },
  {
   "cell_type": "markdown",
   "id": "85764338-e91f-471c-ad29-e36d3578330a",
   "metadata": {},
   "source": [
    "# Evaluation"
   ]
  },
  {
   "cell_type": "code",
   "execution_count": 33,
   "id": "57f67bdb-0cba-4a9c-9407-4d3c99e673f9",
   "metadata": {},
   "outputs": [
    {
     "name": "stdout",
     "output_type": "stream",
     "text": [
      "Classification Report:\n",
      "              precision    recall  f1-score   support\n",
      "\n",
      "           0       1.00      1.00      1.00     56750\n",
      "           1       1.00      1.00      1.00     56976\n",
      "\n",
      "    accuracy                           1.00    113726\n",
      "   macro avg       1.00      1.00      1.00    113726\n",
      "weighted avg       1.00      1.00      1.00    113726\n",
      "\n",
      "Confusion Matrix:\n"
     ]
    },
    {
     "data": {
      "image/png": "[encoded data removed]",
      "text/plain": [
       "<Figure size 640x480 with 2 Axes>"
      ]
     },
     "metadata": {},
     "output_type": "display_data"
    }
   ],
   "source": [
    "print(\"Classification Report:\")\n",
    "print(classification_report(y_test, y_pred))\n",
    "print(\"Confusion Matrix:\")\n",
    "sns.heatmap(confusion_matrix(y_test, y_pred), annot=True, fmt='d', cmap='Blues')\n",
    "plt.show()"
   ]
  },
  {
   "cell_type": "markdown",
   "id": "1903966a-4e0d-4fcc-85db-e6ffee1fb8ce",
   "metadata": {},
   "source": [
    "# Additional Metrics"
   ]
  },
  {
   "cell_type": "code",
   "execution_count": 35,
   "id": "4e9d6a72-9b00-4242-b051-2a1a440b4fba",
   "metadata": {},
   "outputs": [
    {
     "name": "stdout",
     "output_type": "stream",
     "text": [
      "ROC-AUC Score: 1.0000\n",
      "Precision-Recall AUC: 1.0000\n"
     ]
    }
   ],
   "source": [
    "roc_auc = roc_auc_score(y_test, y_prob)\n",
    "precision, recall, _ = precision_recall_curve(y_test, y_prob)\n",
    "pr_auc = auc(recall, precision)\n",
    "print(f\"ROC-AUC Score: {roc_auc:.4f}\")\n",
    "print(f\"Precision-Recall AUC: {pr_auc:.4f}\")"
   ]
  },
  {
   "cell_type": "markdown",
   "id": "3d1541ba-5537-4b8d-bd84-8490916334e7",
   "metadata": {},
   "source": [
    "# Model Deployment Plan"
   ]
  },
  {
   "cell_type": "code",
   "execution_count": 37,
   "id": "d80dc4f1-60f3-4d1d-9eca-49888b221841",
   "metadata": {},
   "outputs": [
    {
     "name": "stdout",
     "output_type": "stream",
     "text": [
      "\n",
      "Model Deployment Plan:\n",
      "1. Save the trained model using joblib or pickle.\n",
      "2. Create an API using Flask or FastAPI to serve predictions.\n",
      "3. Deploy the API on a cloud platform like AWS, GCP, or Azure.\n"
     ]
    }
   ],
   "source": [
    "print(\"\\nModel Deployment Plan:\")\n",
    "print(\"1. Save the trained model using joblib or pickle.\")\n",
    "print(\"2. Create an API using Flask or FastAPI to serve predictions.\")\n",
    "print(\"3. Deploy the API on a cloud platform like AWS, GCP, or Azure.\")"
   ]
  },
  {
   "cell_type": "code",
   "execution_count": null,
   "id": "fd8f9f07-1931-415f-b468-e96d1ab5a9e4",
   "metadata": {},
   "outputs": [],
   "source": []
  }
 ],
 "metadata": {
  "kernelspec": {
   "display_name": "Python 3 (ipykernel)",
   "language": "python",
   "name": "python3"
  },
  "language_info": {
   "codemirror_mode": {
    "name": "ipython",
    "version": 3
   },
   "file_extension": ".py",
   "mimetype": "text/x-python",
   "name": "python",
   "nbconvert_exporter": "python",
   "pygments_lexer": "ipython3",
   "version": "3.12.4"
  }
 },
 "nbformat": 4,
 "nbformat_minor": 5
}
